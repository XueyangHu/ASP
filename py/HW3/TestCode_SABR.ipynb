{
 "cells": [
  {
   "cell_type": "markdown",
   "metadata": {
    "collapsed": true
   },
   "source": [
    "# SABR Model Test Code"
   ]
  },
  {
   "cell_type": "code",
   "execution_count": 1,
   "metadata": {},
   "outputs": [],
   "source": [
    "%load_ext autoreload\n",
    "%autoreload 2"
   ]
  },
  {
   "cell_type": "code",
   "execution_count": 2,
   "metadata": {},
   "outputs": [
    {
     "data": {
      "text/plain": [
       "<module 'pyfeng' from 'C:\\\\Python\\\\Anaconda3\\\\lib\\\\site-packages\\\\pyfeng\\\\__init__.py'>"
      ]
     },
     "execution_count": 2,
     "metadata": {},
     "output_type": "execute_result"
    }
   ],
   "source": [
    "import imp\n",
    "import numpy as np\n",
    "import matplotlib.pyplot as plt\n",
    "import sys\n",
    "sys.path.insert(sys.path.index('')+1, 'D:/Github/PyFENG')\n",
    "import pyfeng as pf\n",
    "import option_models as opt\n",
    "pf"
   ]
  },
  {
   "cell_type": "markdown",
   "metadata": {},
   "source": [
    "## 1. Pricing using Hagan's formula (provided)"
   ]
  },
  {
   "cell_type": "markdown",
   "metadata": {},
   "source": [
    "### (1) SABR for $0<\\beta\\le 1$"
   ]
  },
  {
   "cell_type": "code",
   "execution_count": 3,
   "metadata": {},
   "outputs": [],
   "source": [
    "# Parameters\n",
    "strike = np.linspace(75,125,num=25) # Generate an arithmetic sequence of 25 numbers from 75 to 125\n",
    "forward = 100\n",
    "sigma = 0.2\n",
    "texp = 1\n",
    "vov = 0.5\n",
    "rho = 0.25\n",
    "beta = 1"
   ]
  },
  {
   "cell_type": "code",
   "execution_count": 4,
   "metadata": {},
   "outputs": [
    {
     "data": {
      "text/plain": [
       "{'sigma': 0.2,\n",
       " 'intr': 0.0,\n",
       " 'divr': 0.0,\n",
       " 'is_fwd': False,\n",
       " 'vov': 0.5,\n",
       " 'rho': 0.25,\n",
       " 'beta': 1}"
      ]
     },
     "execution_count": 4,
     "metadata": {},
     "output_type": "execute_result"
    }
   ],
   "source": [
    "# Create model\n",
    "sabr_bsm = pf.SabrHagan2002(sigma, vov=vov, rho=rho, beta=beta)\n",
    "sabr_bsm.__dict__"
   ]
  },
  {
   "cell_type": "code",
   "execution_count": 5,
   "metadata": {},
   "outputs": [
    {
     "data": {
      "text/plain": [
       "(array([25.63112985, 23.75128418, 21.92436819, 20.15929844, 18.464919  ,\n",
       "        16.84954379, 15.32049449, 13.88369006, 12.5433379 , 11.30176115,\n",
       "        10.15937353,  9.11479108,  8.16505218,  7.30590775,  6.53214252,\n",
       "         5.83789336,  5.21693965,  4.66295032,  4.1696811 ,  3.73112202,\n",
       "         3.34159961,  2.99584057,  2.68900456,  2.4166934 ,  2.17494321]),\n",
       " array([0.20400581, 0.20266888, 0.20161986, 0.20085527, 0.2003692 ,\n",
       "        0.20015312, 0.20019595, 0.20048427, 0.20100266, 0.20173418,\n",
       "        0.20266088, 0.20376432, 0.20502604, 0.20642803, 0.20795302,\n",
       "        0.20958477, 0.2113082 , 0.21310949, 0.21497615, 0.21689693,\n",
       "        0.2188618 , 0.22086191, 0.22288945, 0.22493758, 0.22700034]))"
      ]
     },
     "execution_count": 5,
     "metadata": {},
     "output_type": "execute_result"
    }
   ],
   "source": [
    "# This is how you price. you can get either price or bsm_vol\n",
    "price = sabr_bsm.price(strike, forward, texp)\n",
    "bsm_vol = sabr_bsm.vol_smile(strike, forward, texp)\n",
    "\n",
    "price, bsm_vol"
   ]
  },
  {
   "cell_type": "code",
   "execution_count": 6,
   "metadata": {},
   "outputs": [
    {
     "data": {
      "image/png": "[encoded data removed]",
      "text/plain": [
       "<Figure size 432x288 with 1 Axes>"
      ]
     },
     "metadata": {
      "needs_background": "light"
     },
     "output_type": "display_data"
    }
   ],
   "source": [
    "# volatility smile plot: try with different parameters\n",
    "plt.plot(strike, bsm_vol, 'ro')\n",
    "#plt.axis([0, 6, 0, 20])\n",
    "plt.ylabel('BSM Imp Vol under SABR')\n",
    "plt.xlabel('Strike')\n",
    "plt.grid()\n",
    "plt.show()"
   ]
  },
  {
   "cell_type": "markdown",
   "metadata": {},
   "source": [
    "### (2) SABR for $\\beta=0$"
   ]
  },
  {
   "cell_type": "code",
   "execution_count": 7,
   "metadata": {},
   "outputs": [],
   "source": [
    "strike = np.linspace(75,125,num=25)\n",
    "# strike = 1\n",
    "forward = 100\n",
    "sigma = 20\n",
    "texp = 1\n",
    "alpha = 0.5\n",
    "rho = -0.25"
   ]
  },
  {
   "cell_type": "code",
   "execution_count": 8,
   "metadata": {},
   "outputs": [],
   "source": [
    "sabr_norm = pf.SabrHagan2002(sigma, vov=vov, rho=rho, beta=0)\n",
    "price = sabr_norm.price(strike, forward, texp)\n",
    "nvol = sabr_norm.vol_smile(strike, forward, texp, model='norm')"
   ]
  },
  {
   "cell_type": "code",
   "execution_count": 9,
   "metadata": {},
   "outputs": [
    {
     "data": {
      "image/png": "[encoded data removed]",
      "text/plain": [
       "<Figure size 432x288 with 1 Axes>"
      ]
     },
     "metadata": {
      "needs_background": "light"
     },
     "output_type": "display_data"
    }
   ],
   "source": [
    "plt.plot(strike, nvol, 'ro')\n",
    "#plt.axis([0, 6, 0, 20])\n",
    "plt.ylabel('Normal Imp Vol under SABR')\n",
    "plt.xlabel('Strike')\n",
    "plt.grid()\n",
    "plt.show()"
   ]
  },
  {
   "cell_type": "markdown",
   "metadata": {},
   "source": [
    "### (3) Smile calibration to 3 options"
   ]
  },
  {
   "cell_type": "code",
   "execution_count": 10,
   "metadata": {},
   "outputs": [
    {
     "data": {
      "text/plain": [
       "(array([13.60780137,  8.16505218,  4.76869334]),\n",
       " array([0.20057006, 0.20502604, 0.21274362]))"
      ]
     },
     "execution_count": 10,
     "metadata": {},
     "output_type": "execute_result"
    }
   ],
   "source": [
    "strike3 = np.array([90, 100, 110])\n",
    "price3 = sabr_bsm.price(strike3, forward, texp)\n",
    "vol3 = sabr_bsm.vol_smile(strike3, forward, texp)\n",
    "\n",
    "price3, vol3"
   ]
  },
  {
   "cell_type": "code",
   "execution_count": 11,
   "metadata": {},
   "outputs": [
    {
     "data": {
      "text/plain": [
       "{'sigma': 0.2,\n",
       " 'intr': 0.0,\n",
       " 'divr': 0.0,\n",
       " 'is_fwd': False,\n",
       " 'vov': 0.5,\n",
       " 'rho': 0.25,\n",
       " 'beta': 1}"
      ]
     },
     "execution_count": 11,
     "metadata": {},
     "output_type": "execute_result"
    }
   ],
   "source": [
    "sabr_bsm.__dict__"
   ]
  },
  {
   "cell_type": "code",
   "execution_count": 12,
   "metadata": {},
   "outputs": [
    {
     "data": {
      "text/plain": [
       "{'sigma': 0.2000000000001008,\n",
       " 'vov': 0.4999999998672808,\n",
       " 'rho': 0.24999999998258432}"
      ]
     },
     "execution_count": 12,
     "metadata": {},
     "output_type": "execute_result"
    }
   ],
   "source": [
    "# make sure this return the original sigma, alpha, rho\n",
    "sabr_bsm.calibrate3(vol3, strike3, forward, texp, is_vol=True)"
   ]
  },
  {
   "cell_type": "code",
   "execution_count": 13,
   "metadata": {},
   "outputs": [
    {
     "data": {
      "text/plain": [
       "{'sigma': 0.19999999979636335,\n",
       " 'vov': 0.5000000129299839,\n",
       " 'rho': 0.2499999894054446}"
      ]
     },
     "execution_count": 13,
     "metadata": {},
     "output_type": "execute_result"
    }
   ],
   "source": [
    "# make sure this return the original sigma, alpha, rho\n",
    "sabr_bsm.calibrate3(price3, strike3, forward, texp, is_vol=False)"
   ]
  },
  {
   "cell_type": "markdown",
   "metadata": {},
   "source": [
    "## 2. Pricing under MC method"
   ]
  },
  {
   "cell_type": "code",
   "execution_count": 14,
   "metadata": {},
   "outputs": [],
   "source": [
    "strike = np.linspace(75,125,num=25)\n",
    "forward = 100"
   ]
  },
  {
   "cell_type": "code",
   "execution_count": 15,
   "metadata": {},
   "outputs": [
    {
     "name": "stdout",
     "output_type": "stream",
     "text": [
      "{'sigma': 0.2, 'intr': 0.0, 'divr': 0.0, 'is_fwd': False, 'vov': 0.5, 'rho': 0.25, 'beta': 1}\n"
     ]
    }
   ],
   "source": [
    "# instantiate mc model from the hagan model's parameters\n",
    "print(sabr_bsm.__dict__)\n",
    "sabr_bsm_mc = opt.sabr.ModelBsmMC(sabr_bsm.sigma, vov=sabr_bsm.vov, rho=sabr_bsm.rho, beta=1)"
   ]
  },
  {
   "cell_type": "code",
   "execution_count": 16,
   "metadata": {},
   "outputs": [
    {
     "data": {
      "text/plain": [
       "(array([25.63112985, 23.75128418, 21.92436819, 20.15929844, 18.464919  ,\n",
       "        16.84954379, 15.32049449, 13.88369006, 12.5433379 , 11.30176115,\n",
       "        10.15937353,  9.11479108,  8.16505218,  7.30590775,  6.53214252,\n",
       "         5.83789336,  5.21693965,  4.66295032,  4.1696811 ,  3.73112202,\n",
       "         3.34159961,  2.99584057,  2.68900456,  2.4166934 ,  2.17494321]),\n",
       " array([25.82726006, 23.9462753 , 22.11734161, 20.35056122, 18.65445952,\n",
       "        17.03711248, 15.5080238 , 14.07065671, 12.72993203, 11.48764069,\n",
       "        10.34164659,  9.29268792,  8.33416323,  7.46505824,  6.68195729,\n",
       "         5.97909794,  5.35029677,  4.78952697,  4.28896632,  3.83960942,\n",
       "         3.43910121,  3.08738288,  2.77852538,  2.50435667,  2.25983526]))"
      ]
     },
     "execution_count": 16,
     "metadata": {},
     "output_type": "execute_result"
    }
   ],
   "source": [
    "price_hagan = sabr_bsm.price(strike, forward, texp)\n",
    "price_mc = sabr_bsm_mc.price(strike, forward, texp)\n",
    "\n",
    "# make sure the two prices are similar\n",
    "np.set_printoptions(suppress=True)\n",
    "price_hagan, price_mc"
   ]
  },
  {
   "cell_type": "markdown",
   "metadata": {},
   "source": [
    "Repeat the same for beta = 0"
   ]
  },
  {
   "cell_type": "code",
   "execution_count": 17,
   "metadata": {},
   "outputs": [
    {
     "name": "stdout",
     "output_type": "stream",
     "text": [
      "{'sigma': 20, 'intr': 0.0, 'divr': 0.0, 'is_fwd': False, 'vov': 0.5, 'rho': -0.25, 'beta': 0}\n"
     ]
    }
   ],
   "source": [
    "# instantiate mc model from the hagan model's parameters\n",
    "print(sabr_norm.__dict__)\n",
    "sabr_norm_mc = opt.sabr.ModelNormalMC(sabr_norm.sigma, vov=sabr_norm.vov, rho=sabr_norm.rho, beta=0)"
   ]
  },
  {
   "cell_type": "code",
   "execution_count": 18,
   "metadata": {},
   "outputs": [
    {
     "data": {
      "text/plain": [
       "(array([26.59094359, 24.75316491, 22.95198866, 21.19221774, 19.47903728,\n",
       "        17.81796274, 16.21475835, 14.6753216 , 13.20553214, 11.81106589,\n",
       "        10.49717985,  9.26847793,  8.12867327,  7.08036718,  6.12486688,\n",
       "         5.26206391,  4.4903905 ,  3.80686327,  3.2072135 ,  2.6860921 ,\n",
       "         2.2373286 ,  1.85421785,  1.52980713,  1.25715953,  1.02957603]),\n",
       " array([26.58911926, 24.75404653, 22.95369199, 21.19997722, 19.49430129,\n",
       "        17.84083902, 16.24368894, 14.70839153, 13.24825842, 11.85790108,\n",
       "        10.54487657,  9.31808437,  8.18117663,  7.1366871 ,  6.18341715,\n",
       "         5.32159881,  4.54787942,  3.86437813,  3.25912006,  2.73054273,\n",
       "         2.27823835,  1.89099367,  1.56349165,  1.28803308,  1.05978108]))"
      ]
     },
     "execution_count": 18,
     "metadata": {},
     "output_type": "execute_result"
    }
   ],
   "source": [
    "price_hagan = sabr_norm.price(strike, forward, texp)\n",
    "price_mc = sabr_norm_mc.price(strike, forward, texp)\n",
    "\n",
    "# make sure the two prices are similar\n",
    "price_hagan, price_mc"
   ]
  },
  {
   "cell_type": "code",
   "execution_count": null,
   "metadata": {},
   "outputs": [],
   "source": []
  },
  {
   "cell_type": "markdown",
   "metadata": {
    "collapsed": true
   },
   "source": [
    "## 3. Pricing under conditional MC method"
   ]
  },
  {
   "cell_type": "code",
   "execution_count": 19,
   "metadata": {},
   "outputs": [],
   "source": [
    "strike = np.linspace(75,125,num=25)\n",
    "forward = 100"
   ]
  },
  {
   "cell_type": "code",
   "execution_count": 20,
   "metadata": {},
   "outputs": [
    {
     "name": "stdout",
     "output_type": "stream",
     "text": [
      "{'sigma': 0.2, 'intr': 0.0, 'divr': 0.0, 'is_fwd': False, 'vov': 0.5, 'rho': 0.25, 'beta': 1}\n"
     ]
    }
   ],
   "source": [
    "# instantiate mc model from the hagan model's parameters\n",
    "print(sabr_bsm.__dict__)\n",
    "sabr_bsm_cmc = opt.sabr.ModelBsmCondMC(sabr_bsm.sigma, vov=sabr_bsm.vov, rho=sabr_bsm.rho, beta=1)"
   ]
  },
  {
   "cell_type": "code",
   "execution_count": 21,
   "metadata": {},
   "outputs": [
    {
     "data": {
      "text/plain": [
       "(array([25.63112985, 23.75128418, 21.92436819, 20.15929844, 18.464919  ,\n",
       "        16.84954379, 15.32049449, 13.88369006, 12.5433379 , 11.30176115,\n",
       "        10.15937353,  9.11479108,  8.16505218,  7.30590775,  6.53214252,\n",
       "         5.83789336,  5.21693965,  4.66295032,  4.1696811 ,  3.73112202,\n",
       "         3.34159961,  2.99584057,  2.68900456,  2.4166934 ,  2.17494321]),\n",
       " array([25.75246319, 23.87441123, 22.04924911, 20.28574024, 18.59255381,\n",
       "        16.97782384, 15.4487074 , 14.010994  , 12.66881249, 11.42446676,\n",
       "        10.2784106 ,  9.22935177,  8.27445895,  7.40963649,  6.62983046,\n",
       "         5.9293341 ,  5.3020687 ,  4.74182475,  4.24245654,  3.79802953,\n",
       "         3.40292424,  3.05190258,  2.74014379,  2.46325681,  2.21727538]))"
      ]
     },
     "execution_count": 21,
     "metadata": {},
     "output_type": "execute_result"
    }
   ],
   "source": [
    "price_hagan = sabr_bsm.price(strike, forward, texp)\n",
    "price_mc = sabr_bsm_cmc.price(strike, forward, texp)\n",
    "\n",
    "# make sure the two prices are similar\n",
    "price_hagan, price_mc"
   ]
  },
  {
   "cell_type": "markdown",
   "metadata": {},
   "source": [
    "Repeat the same for beta = 0"
   ]
  },
  {
   "cell_type": "code",
   "execution_count": 22,
   "metadata": {},
   "outputs": [
    {
     "name": "stdout",
     "output_type": "stream",
     "text": [
      "{'sigma': 20, 'intr': 0.0, 'divr': 0.0, 'is_fwd': False, 'vov': 0.5, 'rho': -0.25, 'beta': 0}\n"
     ]
    }
   ],
   "source": [
    "# instantiate mc model from the hagan model's parameters\n",
    "print(sabr_norm.__dict__)\n",
    "sabr_norm_cmc = opt.sabr.ModelNormalCondMC(sabr_norm.sigma, vov=sabr_norm.vov, rho=sabr_norm.rho, beta=0)"
   ]
  },
  {
   "cell_type": "code",
   "execution_count": 23,
   "metadata": {
    "scrolled": true
   },
   "outputs": [
    {
     "data": {
      "text/plain": [
       "(array([26.59094359, 24.75316491, 22.95198866, 21.19221774, 19.47903728,\n",
       "        17.81796274, 16.21475835, 14.6753216 , 13.20553214, 11.81106589,\n",
       "        10.49717985,  9.26847793,  8.12867327,  7.08036718,  6.12486688,\n",
       "         5.26206391,  4.4903905 ,  3.80686327,  3.2072135 ,  2.6860921 ,\n",
       "         2.2373286 ,  1.85421785,  1.52980713,  1.25715953,  1.02957603]),\n",
       " array([26.51718857, 24.68283131, 22.88554633, 21.13014828, 19.42181855,\n",
       "        17.76604935, 16.16855819, 14.63516985, 13.17166405, 11.78359118,\n",
       "        10.47606147,  9.25351858,  8.11951249,  7.07649096,  6.12563032,\n",
       "         5.26672539,  4.49815413,  3.81692489,  3.2188048 ,  2.6985181 ,\n",
       "         2.24999485,  1.86664564,  1.54163695,  1.26814468,  1.03956915]))"
      ]
     },
     "execution_count": 23,
     "metadata": {},
     "output_type": "execute_result"
    }
   ],
   "source": [
    "price_hagan = sabr_norm.price(strike, forward, texp)\n",
    "price_mc = sabr_norm_cmc.price(strike, forward, texp)\n",
    "    \n",
    "# make sure the two prices are similar\n",
    "price_hagan, price_mc"
   ]
  },
  {
   "cell_type": "markdown",
   "metadata": {
    "collapsed": true
   },
   "source": [
    "## Compare the MC variance between brute-force MC and conditional MC\n",
    "For this, you should not use the random number seed"
   ]
  },
  {
   "cell_type": "code",
   "execution_count": 24,
   "metadata": {},
   "outputs": [
    {
     "name": "stderr",
     "output_type": "stream",
     "text": [
      "100%|████████████████████████████████████████████████████████████████████████████████| 100/100 [01:07<00:00,  1.47it/s]\n"
     ]
    },
    {
     "data": {
      "text/plain": [
       "(array([0.04604084, 0.04495149, 0.04368499, 0.04217256, 0.04053137,\n",
       "        0.03872763, 0.0368219 , 0.03477936, 0.03262499, 0.03058194,\n",
       "        0.02866339, 0.02670293, 0.02479684, 0.0231248 , 0.02153588,\n",
       "        0.02005021, 0.01854176, 0.01700615, 0.01550914, 0.01405827,\n",
       "        0.01277911, 0.01172393, 0.01079065, 0.00991616, 0.00910938]),\n",
       " array([0.00307162, 0.00312382, 0.00317293, 0.00321514, 0.00324616,\n",
       "        0.0032616 , 0.00325744, 0.00323049, 0.00317881, 0.00310199,\n",
       "        0.00300117, 0.0028789 , 0.00273885, 0.00258532, 0.00242286,\n",
       "        0.00225588, 0.00208833, 0.00192358, 0.00176429, 0.00161242,\n",
       "        0.00146932, 0.0013358 , 0.00121221, 0.00109857, 0.00099466]))"
      ]
     },
     "execution_count": 24,
     "metadata": {},
     "output_type": "execute_result"
    }
   ],
   "source": [
    "# beta = 1\n",
    "from tqdm import tqdm\n",
    "n = 100\n",
    "price_bsm_mc = np.zeros([n,len(strike)])\n",
    "price_bsm_cmc = np.zeros([n,len(strike)])\n",
    "for i in tqdm(range(n)):\n",
    "    price_bsm_mc[i:] = sabr_bsm_mc.price(strike, forward, texp, seed=None)\n",
    "    price_bsm_cmc[i:] = sabr_bsm_cmc.price(strike, forward, texp, seed=None)\n",
    "\n",
    "price_bsm_mc.var(axis=0), price_bsm_cmc.var(axis=0)"
   ]
  },
  {
   "cell_type": "code",
   "execution_count": 25,
   "metadata": {},
   "outputs": [
    {
     "name": "stderr",
     "output_type": "stream",
     "text": [
      "100%|████████████████████████████████████████████████████████████████████████████████| 100/100 [00:46<00:00,  2.14it/s]\n"
     ]
    },
    {
     "data": {
      "text/plain": [
       "(array([0.03300353, 0.03188357, 0.03061717, 0.02922263, 0.02775432,\n",
       "        0.0262388 , 0.02460491, 0.02294483, 0.02124916, 0.01961596,\n",
       "        0.01786304, 0.01610557, 0.01439446, 0.01278502, 0.01135844,\n",
       "        0.01008357, 0.00896692, 0.007837  , 0.00675292, 0.00583438,\n",
       "        0.00497735, 0.00415414, 0.00344045, 0.00282123, 0.00231045]),\n",
       " array([0.00078171, 0.00069183, 0.00060472, 0.00052184, 0.00044468,\n",
       "        0.00037465, 0.00031301, 0.0002607 , 0.00021829, 0.0001858 ,\n",
       "        0.00016269, 0.00014785, 0.00013965, 0.00013614, 0.00013524,\n",
       "        0.00013502, 0.00013389, 0.00013078, 0.0001252 , 0.00011717,\n",
       "        0.00010712, 0.00009572, 0.00008368, 0.00007171, 0.00006034]))"
      ]
     },
     "execution_count": 25,
     "metadata": {},
     "output_type": "execute_result"
    }
   ],
   "source": [
    "# beta = 0\n",
    "n = 100\n",
    "price_norm_mc = np.zeros([n,len(strike)])\n",
    "price_norm_cmc = np.zeros([n,len(strike)])\n",
    "for i in tqdm(range(n)):\n",
    "    price_norm_mc[i:] = sabr_norm_mc.price(strike, forward, texp, seed=None)\n",
    "    price_norm_cmc[i:] = sabr_norm_cmc.price(strike, forward, texp, seed=None)\n",
    "\n",
    "price_norm_mc.var(axis=0), price_norm_cmc.var(axis=0)"
   ]
  },
  {
   "cell_type": "code",
   "execution_count": null,
   "metadata": {},
   "outputs": [],
   "source": []
  }
 ],
 "metadata": {
  "anaconda-cloud": {},
  "kernelspec": {
   "display_name": "Python 3",
   "language": "python",
   "name": "python3"
  },
  "language_info": {
   "codemirror_mode": {
    "name": "ipython",
    "version": 3
   },
   "file_extension": ".py",
   "mimetype": "text/x-python",
   "name": "python",
   "nbconvert_exporter": "python",
   "pygments_lexer": "ipython3",
   "version": "3.7.4"
  }
 },
 "nbformat": 4,
 "nbformat_minor": 1
}
