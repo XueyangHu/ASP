{
 "cells": [
  {
   "cell_type": "markdown",
   "metadata": {},
   "source": [
    "# Numpy Package"
   ]
  },
  {
   "cell_type": "code",
   "execution_count": 2,
   "metadata": {},
   "outputs": [],
   "source": [
    "import numpy as np\n",
    "import timeit"
   ]
  },
  {
   "cell_type": "markdown",
   "metadata": {},
   "source": [
    "## Document and Auto-completion in Jupyter"
   ]
  },
  {
   "cell_type": "code",
   "execution_count": 3,
   "metadata": {},
   "outputs": [
    {
     "ename": "SyntaxError",
     "evalue": "invalid syntax (<ipython-input-3-e955075c54d7>, line 2)",
     "output_type": "error",
     "traceback": [
      "\u001b[1;36m  File \u001b[1;32m\"<ipython-input-3-e955075c54d7>\"\u001b[1;36m, line \u001b[1;32m2\u001b[0m\n\u001b[1;33m    np.\u001b[0m\n\u001b[1;37m       ^\u001b[0m\n\u001b[1;31mSyntaxError\u001b[0m\u001b[1;31m:\u001b[0m invalid syntax\n"
     ]
    }
   ],
   "source": [
    "# np.[TAB]\n",
    "np."
   ]
  },
  {
   "cell_type": "code",
   "execution_count": 4,
   "metadata": {},
   "outputs": [
    {
     "data": {
      "text/plain": [
       "<function RandomState.normal>"
      ]
     },
     "execution_count": 4,
     "metadata": {},
     "output_type": "execute_result"
    }
   ],
   "source": [
    "# Help document\n",
    "np.random.normal"
   ]
  },
  {
   "cell_type": "code",
   "execution_count": 5,
   "metadata": {},
   "outputs": [
    {
     "data": {
      "text/plain": [
       "<function RandomState.normal>"
      ]
     },
     "execution_count": 5,
     "metadata": {},
     "output_type": "execute_result"
    }
   ],
   "source": [
    "# [Sh-Tab] to show function arguments\n",
    "np.random.normal"
   ]
  },
  {
   "cell_type": "markdown",
   "metadata": {},
   "source": [
    "## Vector & Matrix"
   ]
  },
  {
   "cell_type": "code",
   "execution_count": 6,
   "metadata": {},
   "outputs": [
    {
     "name": "stdout",
     "output_type": "stream",
     "text": [
      "[0 1 2 3 4 5 6]\n",
      "1\n",
      "(7,)\n",
      "0 1 6\n",
      "[2 3 4] [4 5]\n",
      "[0 1] [3 4 5 6]\n"
     ]
    }
   ],
   "source": [
    "t = np.array([0, 1, 2, 3, 4, 5, 6])\n",
    "\n",
    "print(t)\n",
    "print(t.ndim) # rank\n",
    "print(t.shape) # shape\n",
    "print(t[0], t[1], t[-1])\n",
    "print(t[2:5], t[4:-1])\n",
    "print(t[:2], t[3:])"
   ]
  },
  {
   "cell_type": "markdown",
   "metadata": {},
   "source": [
    "## Matrix multiplication"
   ]
  },
  {
   "cell_type": "code",
   "execution_count": 7,
   "metadata": {},
   "outputs": [
    {
     "name": "stdout",
     "output_type": "stream",
     "text": [
      "[2 5 2] \n",
      " [[ 1.   0.7 -0.2]\n",
      " [ 0.2  1.   0.5]\n",
      " [ 0.2 -0.5  1. ]]\n"
     ]
    }
   ],
   "source": [
    "vec_x = np.array([2, 5, 2])\n",
    "mat_A = np.array([[1, 0.7, -0.2], [0.2, 1, 0.5], [0.2, -0.5, 1]])\n",
    "print(vec_x, '\\n', mat_A)"
   ]
  },
  {
   "cell_type": "code",
   "execution_count": 8,
   "metadata": {},
   "outputs": [
    {
     "name": "stdout",
     "output_type": "stream",
     "text": [
      "[ 4 25  4] \n",
      "\n",
      "[[1.   0.49 0.04]\n",
      " [0.04 1.   0.25]\n",
      " [0.04 0.25 1.  ]] \n",
      "\n",
      "[[ 2.   3.5 -0.4]\n",
      " [ 0.4  5.   1. ]\n",
      " [ 0.4 -2.5  2. ]] \n",
      "\n",
      "[[ 2.   3.5 -0.4]\n",
      " [ 0.4  5.   1. ]\n",
      " [ 0.4 -2.5  2. ]] \n",
      "\n"
     ]
    }
   ],
   "source": [
    "# Vector * Vector (Matrix * Matrix): Component-wise\n",
    "print(vec_x * vec_x, '\\n')\n",
    "print(mat_A * mat_A, '\\n')\n",
    "\n",
    "# Matrix x Vector ??: component-wise in each vector\n",
    "print( mat_A * vec_x, '\\n')\n",
    "print( vec_x * mat_A, '\\n') # Same"
   ]
  },
  {
   "cell_type": "code",
   "execution_count": 9,
   "metadata": {},
   "outputs": [
    {
     "name": "stdout",
     "output_type": "stream",
     "text": [
      "[[ 0  1  2  3]\n",
      " [ 4  5  6  7]\n",
      " [ 8  9 10 11]] [0 1 2 3]\n"
     ]
    },
    {
     "data": {
      "text/plain": [
       "array([[ 0,  1,  4,  9],\n",
       "       [ 0,  5, 12, 21],\n",
       "       [ 0,  9, 20, 33]])"
      ]
     },
     "execution_count": 9,
     "metadata": {},
     "output_type": "execute_result"
    }
   ],
   "source": [
    "mat_B = np.arange(12).reshape((3,4))\n",
    "vec_y = np.arange(4)\n",
    "print(mat_B, vec_y)\n",
    "mat_B * vec_y "
   ]
  },
  {
   "cell_type": "code",
   "execution_count": null,
   "metadata": {},
   "outputs": [],
   "source": []
  },
  {
   "cell_type": "code",
   "execution_count": 10,
   "metadata": {
    "scrolled": true
   },
   "outputs": [
    {
     "name": "stdout",
     "output_type": "stream",
     "text": [
      "42\n",
      "42\n",
      "42\n"
     ]
    }
   ],
   "source": [
    "# Dot(inner) product\n",
    "vec_y = vec_x + 1\n",
    "print( np.dot(vec_x, vec_y) )\n",
    "print( vec_x.dot(vec_y) ) # same\n",
    "print( vec_x@vec_y ) # Because Python treats vec_y as a coloumn vector, it gives the same result."
   ]
  },
  {
   "cell_type": "code",
   "execution_count": 11,
   "metadata": {
    "scrolled": true
   },
   "outputs": [
    {
     "name": "stdout",
     "output_type": "stream",
     "text": [
      "[[ 1.1   1.5  -0.05]\n",
      " [ 0.5   0.89  0.96]\n",
      " [ 0.3  -0.86  0.71]] \n",
      "\n",
      "[ 5.1  6.4 -0.1] \n",
      "\n",
      "[3.4 5.4 4.1]\n"
     ]
    }
   ],
   "source": [
    "# Matrix multiplication ?\n",
    "print(mat_A @ mat_A, '\\n')\n",
    "# print(np.matmul(mat_A, mat_A), '\\n')  # @ is exactly same as np.matmul\n",
    "\n",
    "print(mat_A @ vec_x, '\\n')  # vec_x is treated as a column vector\n",
    "\n",
    "print(vec_x @ mat_A) # vec_x is treated as a row vector"
   ]
  },
  {
   "cell_type": "code",
   "execution_count": 12,
   "metadata": {},
   "outputs": [
    {
     "name": "stdout",
     "output_type": "stream",
     "text": [
      "[[2]\n",
      " [5]\n",
      " [2]]\n",
      "[[2]\n",
      " [5]\n",
      " [2]]\n",
      "[[2]\n",
      " [5]\n",
      " [2]]\n",
      "[[2 5 2]]\n",
      "[[[2]\n",
      "  [5]\n",
      "  [2]]]\n"
     ]
    }
   ],
   "source": [
    "# Convert vecto to a matrix with single column\n",
    "vec_x_col = vec_x[:,None] # add a second dimension j with None elements so that it becomes a column vector\n",
    "print(vec_x_col) # The three methods below give the same result, but this one is preferred\n",
    "print( np.reshape(vec_x,(3,1)) )\n",
    "print( vec_x.reshape((3,1)) )\n",
    "vec_x_2 = vec_x[None,:]\n",
    "print(vec_x_2)\n",
    "vec_x_3 = vec_x[None,:, None]\n",
    "print(vec_x_3)"
   ]
  },
  {
   "cell_type": "code",
   "execution_count": 13,
   "metadata": {},
   "outputs": [
    {
     "name": "stdout",
     "output_type": "stream",
     "text": [
      "[0 1 2 3 4]\n"
     ]
    }
   ],
   "source": [
    "vec_x = np.arange(5)\n",
    "print(vec_x)"
   ]
  },
  {
   "cell_type": "code",
   "execution_count": 14,
   "metadata": {
    "scrolled": true
   },
   "outputs": [
    {
     "data": {
      "text/plain": [
       "array([[0, 1, 2, 3, 4],\n",
       "       [1, 2, 3, 4, 5],\n",
       "       [2, 3, 4, 5, 6],\n",
       "       [3, 4, 5, 6, 7],\n",
       "       [4, 5, 6, 7, 8]])"
      ]
     },
     "execution_count": 14,
     "metadata": {},
     "output_type": "execute_result"
    }
   ],
   "source": [
    "vec_x + vec_x[:,None]"
   ]
  },
  {
   "cell_type": "code",
   "execution_count": 15,
   "metadata": {},
   "outputs": [
    {
     "data": {
      "text/plain": [
       "array([[ 0,  0,  0,  0,  0],\n",
       "       [ 0,  1,  2,  3,  4],\n",
       "       [ 0,  2,  4,  6,  8],\n",
       "       [ 0,  3,  6,  9, 12],\n",
       "       [ 0,  4,  8, 12, 16]])"
      ]
     },
     "execution_count": 15,
     "metadata": {},
     "output_type": "execute_result"
    }
   ],
   "source": [
    "vec_x * vec_x[:,None]"
   ]
  },
  {
   "cell_type": "code",
   "execution_count": 16,
   "metadata": {},
   "outputs": [
    {
     "data": {
      "text/plain": [
       "array([[2, 3, 4, 5, 6],\n",
       "       [5, 6, 7, 8, 9],\n",
       "       [2, 3, 4, 5, 6]])"
      ]
     },
     "execution_count": 16,
     "metadata": {},
     "output_type": "execute_result"
    }
   ],
   "source": [
    "vec_x + vec_x_col"
   ]
  },
  {
   "cell_type": "code",
   "execution_count": 17,
   "metadata": {
    "scrolled": true
   },
   "outputs": [
    {
     "ename": "ValueError",
     "evalue": "operands could not be broadcast together with shapes (3,3) (5,1) ",
     "output_type": "error",
     "traceback": [
      "\u001b[1;31m---------------------------------------------------------------------------\u001b[0m",
      "\u001b[1;31mValueError\u001b[0m                                Traceback (most recent call last)",
      "\u001b[1;32m<ipython-input-17-06dd24bef18e>\u001b[0m in \u001b[0;36m<module>\u001b[1;34m\u001b[0m\n\u001b[1;32m----> 1\u001b[1;33m \u001b[0mmat_A\u001b[0m \u001b[1;33m*\u001b[0m \u001b[0mvec_x\u001b[0m\u001b[1;33m[\u001b[0m\u001b[1;33m:\u001b[0m\u001b[1;33m,\u001b[0m \u001b[1;32mNone\u001b[0m\u001b[1;33m]\u001b[0m\u001b[1;33m\u001b[0m\u001b[1;33m\u001b[0m\u001b[0m\n\u001b[0m",
      "\u001b[1;31mValueError\u001b[0m: operands could not be broadcast together with shapes (3,3) (5,1) "
     ]
    }
   ],
   "source": [
    "mat_A * vec_x[:, None]"
   ]
  },
  {
   "cell_type": "code",
   "execution_count": 18,
   "metadata": {},
   "outputs": [
    {
     "data": {
      "text/plain": [
       "array([[[0],\n",
       "        [1],\n",
       "        [2],\n",
       "        [3],\n",
       "        [4]]])"
      ]
     },
     "execution_count": 18,
     "metadata": {},
     "output_type": "execute_result"
    }
   ],
   "source": [
    "vec_x[None,:,None]"
   ]
  },
  {
   "cell_type": "markdown",
   "metadata": {},
   "source": [
    "## N-d Array Initialization"
   ]
  },
  {
   "cell_type": "code",
   "execution_count": 19,
   "metadata": {},
   "outputs": [
    {
     "name": "stdout",
     "output_type": "stream",
     "text": [
      "[[0 0 0]\n",
      " [0 0 0]\n",
      " [0 0 0]\n",
      " [0 0 0]\n",
      " [0 0 0]]\n",
      "[[1. 1. 1.]\n",
      " [1. 1. 1.]\n",
      " [1. 1. 1.]]\n"
     ]
    }
   ],
   "source": [
    "vec_y = np.ones(10)\n",
    "vec_z = np.zeros((5,3), dtype=int)\n",
    "print(vec_z)\n",
    "\n",
    "#mat_B = np.zeros((3,3))\n",
    "#mat_B = np.zeros_like(mat_A)\n",
    "mat_B = np.ones_like(mat_A)\n",
    "print(mat_B)\n",
    "\n",
    "x_norm = np.random.normal(10,2,size=(10000,5))\n",
    "x_unif = np.random.uniform(size=(10000,5))\n",
    "# x_unif = np.random.uniform(size=mat_A.shape)"
   ]
  },
  {
   "cell_type": "code",
   "execution_count": 20,
   "metadata": {},
   "outputs": [
    {
     "data": {
      "text/plain": [
       "array([[10.87689249, 11.99304624,  9.47890032, 12.69277723, 11.02054951],\n",
       "       [10.67003291,  8.54497294, 10.7060769 ,  8.89821771, 11.24792269],\n",
       "       [10.44187918, 11.07513908,  9.51533446, 10.38353151, 11.76904533],\n",
       "       ...,\n",
       "       [ 9.40842622, 13.39556991, 12.64078743,  9.26892182, 11.18083425],\n",
       "       [12.34528326,  8.6420971 , 11.40992832,  9.88021738,  9.50841099],\n",
       "       [10.81626024,  7.93425286,  7.84766494, 11.32548178,  9.07537394]])"
      ]
     },
     "execution_count": 20,
     "metadata": {},
     "output_type": "execute_result"
    }
   ],
   "source": [
    "x_norm"
   ]
  },
  {
   "cell_type": "code",
   "execution_count": 21,
   "metadata": {},
   "outputs": [
    {
     "data": {
      "text/plain": [
       "array([[0.07147519, 0.63556363, 0.97991576, 0.42588261, 0.9297101 ],\n",
       "       [0.13887148, 0.77844077, 0.19611217, 0.50074995, 0.18301224],\n",
       "       [0.32102764, 0.23773104, 0.72421894, 0.12168976, 0.0382161 ],\n",
       "       ...,\n",
       "       [0.57944471, 0.90670192, 0.80821815, 0.32956579, 0.76936596],\n",
       "       [0.01068354, 0.68155629, 0.5770475 , 0.22560392, 0.41562673],\n",
       "       [0.95148767, 0.56166123, 0.71628133, 0.86929026, 0.07566526]])"
      ]
     },
     "execution_count": 21,
     "metadata": {},
     "output_type": "execute_result"
    }
   ],
   "source": [
    "x_unif"
   ]
  },
  {
   "cell_type": "markdown",
   "metadata": {},
   "source": [
    "## Operations on Matrix (N-d array)"
   ]
  },
  {
   "cell_type": "code",
   "execution_count": 22,
   "metadata": {},
   "outputs": [
    {
     "name": "stdout",
     "output_type": "stream",
     "text": [
      "[10.01055093 10.02503185  9.97326156 10.02308325 10.0018122 ]\n",
      "[1.98373842 2.0135571  2.00960431 2.00389519 2.00313764]\n"
     ]
    }
   ],
   "source": [
    "# Axis 0: Column, Axis 1: Row\n",
    "# But they both return a row vector\n",
    "print( np.mean(x_norm, axis=0) )\n",
    "print( np.std(x_norm, axis=0) )"
   ]
  },
  {
   "cell_type": "code",
   "execution_count": 23,
   "metadata": {},
   "outputs": [
    {
     "name": "stdout",
     "output_type": "stream",
     "text": [
      "10.006747960805134\n",
      "[10.01055093 10.02503185  9.97326156 10.02308325 10.0018122 ]\n",
      "[11.21243316 10.01344463 10.63698591 ... 11.17890792 10.35718741\n",
      "  9.39980675]\n",
      "10.006747960805134\n"
     ]
    }
   ],
   "source": [
    "print( np.mean(x_norm) ) # mean of everything in the matrix\n",
    "print( np.mean(x_norm,axis=0) )\n",
    "print( np.mean(x_norm,axis=1) )\n",
    "print( np.mean(x_norm,axis=(0,1)) ) # mean of the two axis together"
   ]
  },
  {
   "cell_type": "code",
   "execution_count": 24,
   "metadata": {},
   "outputs": [
    {
     "data": {
      "text/plain": [
       "array([[-1,  1, -1, ..., -1, -1,  1],\n",
       "       [-1,  1,  1, ..., -1, -1,  1],\n",
       "       [-1, -1, -1, ...,  1, -1,  1],\n",
       "       ...,\n",
       "       [-1, -1, -1, ...,  1,  1,  1],\n",
       "       [-1, -1,  1, ..., -1, -1, -1],\n",
       "       [-1,  1, -1, ..., -1,  1, -1]])"
      ]
     },
     "execution_count": 24,
     "metadata": {},
     "output_type": "execute_result"
    }
   ],
   "source": [
    "# Random Walk Simulation\n",
    "x_rw = np.random.binomial(1,0.5,size=(1000,10))*2 - 1\n",
    "x_rw"
   ]
  },
  {
   "cell_type": "code",
   "execution_count": 25,
   "metadata": {},
   "outputs": [
    {
     "name": "stdout",
     "output_type": "stream",
     "text": [
      "[[ -1   1  -1 ...  -1  -1   1]\n",
      " [ -2   2   0 ...  -2  -2   2]\n",
      " [ -3   1  -1 ...  -1  -3   3]\n",
      " ...\n",
      " [ 50 -18 -24 ... -32  46   0]\n",
      " [ 49 -19 -23 ... -33  45  -1]\n",
      " [ 48 -18 -24 ... -34  46  -2]]\n"
     ]
    }
   ],
   "source": [
    "x_cum = np.cumsum(x_rw, axis=0)\n",
    "print(x_cum)"
   ]
  },
  {
   "cell_type": "code",
   "execution_count": 26,
   "metadata": {},
   "outputs": [],
   "source": [
    "%matplotlib inline\n",
    "import matplotlib.pyplot as plt"
   ]
  },
  {
   "cell_type": "code",
   "execution_count": 27,
   "metadata": {},
   "outputs": [
    {
     "data": {
      "text/plain": [
       "[<matplotlib.lines.Line2D at 0x263cf27f148>,\n",
       " <matplotlib.lines.Line2D at 0x263cc1216c8>,\n",
       " <matplotlib.lines.Line2D at 0x263cc121888>,\n",
       " <matplotlib.lines.Line2D at 0x263cc121a48>,\n",
       " <matplotlib.lines.Line2D at 0x263cc121d08>,\n",
       " <matplotlib.lines.Line2D at 0x263cc121fc8>,\n",
       " <matplotlib.lines.Line2D at 0x263cc129208>,\n",
       " <matplotlib.lines.Line2D at 0x263cc129488>,\n",
       " <matplotlib.lines.Line2D at 0x263cc121c48>,\n",
       " <matplotlib.lines.Line2D at 0x263cc121f08>]"
      ]
     },
     "execution_count": 27,
     "metadata": {},
     "output_type": "execute_result"
    },
    {
     "data": {
      "image/png": "[encoded data removed]",
      "text/plain": [
       "<Figure size 432x288 with 1 Axes>"
      ]
     },
     "metadata": {
      "needs_background": "light"
     },
     "output_type": "display_data"
    }
   ],
   "source": [
    "plt.plot(x_cum)"
   ]
  },
  {
   "cell_type": "code",
   "execution_count": 28,
   "metadata": {},
   "outputs": [
    {
     "name": "stdout",
     "output_type": "stream",
     "text": [
      "[[ 0  1  2  3]\n",
      " [ 4  5  6  7]\n",
      " [ 8  9 10 11]]\n",
      "[0 1 2 3]\n",
      "[0 1 2]\n"
     ]
    }
   ],
   "source": [
    "mat_B = np.arange(12).reshape((3,4))\n",
    "vec_x = np.arange(4)\n",
    "vec_y = np.arange(3)\n",
    "print(mat_B)\n",
    "print(vec_x)\n",
    "print(vec_y)"
   ]
  },
  {
   "cell_type": "code",
   "execution_count": 29,
   "metadata": {},
   "outputs": [
    {
     "name": "stdout",
     "output_type": "stream",
     "text": [
      "[[ 0  1  2  3]\n",
      " [ 4  5  6  7]\n",
      " [ 8  9 10 11]\n",
      " [ 0  1  2  3]\n",
      " [ 4  5  6  7]\n",
      " [ 8  9 10 11]]\n",
      "[[ 0  1  2  3]\n",
      " [ 4  5  6  7]\n",
      " [ 8  9 10 11]\n",
      " [ 0  1  2  3]]\n"
     ]
    }
   ],
   "source": [
    "# vertically stack\n",
    "print(np.vstack([mat_B, mat_B])) \n",
    "print(np.vstack([mat_B, vec_x]))"
   ]
  },
  {
   "cell_type": "code",
   "execution_count": 30,
   "metadata": {},
   "outputs": [
    {
     "name": "stdout",
     "output_type": "stream",
     "text": [
      "[[ 0  1  2  3  0  1  2  3]\n",
      " [ 4  5  6  7  4  5  6  7]\n",
      " [ 8  9 10 11  8  9 10 11]]\n",
      "[[ 0  1  2  3  0]\n",
      " [ 4  5  6  7  1]\n",
      " [ 8  9 10 11  2]]\n"
     ]
    }
   ],
   "source": [
    "# horizontally stack\n",
    "print(np.hstack([mat_B, mat_B])) \n",
    "# print(np.hstack([mat_B, vec_y]))\n",
    "print(np.hstack([mat_B, vec_y[:,None]]))"
   ]
  },
  {
   "cell_type": "code",
   "execution_count": null,
   "metadata": {},
   "outputs": [],
   "source": []
  },
  {
   "cell_type": "markdown",
   "metadata": {
    "collapsed": true
   },
   "source": [
    "# Vectorization is fast\n",
    "* Using `for` or `while` loop is very slow\n",
    "* Always find proper vectorization operation"
   ]
  },
  {
   "cell_type": "code",
   "execution_count": 31,
   "metadata": {},
   "outputs": [],
   "source": [
    "# We're going to simulate the mean of the maximum of 20 normal distribution.\n",
    "nn = 100000\n",
    "x_norm = np.random.normal(size=(nn,20))"
   ]
  },
  {
   "cell_type": "markdown",
   "metadata": {},
   "source": [
    "### Using `for` loop"
   ]
  },
  {
   "cell_type": "code",
   "execution_count": 32,
   "metadata": {},
   "outputs": [
    {
     "name": "stdout",
     "output_type": "stream",
     "text": [
      "mean=1.8705418891679246, time=0.455178298000007\n"
     ]
    }
   ],
   "source": [
    "start_time = timeit.default_timer()\n",
    "x_max = np.ones(x_norm.shape[0])\n",
    "for k in range(nn):\n",
    "    x_max[k] = max(x_norm[k,:])\n",
    "val = x_max.mean()\n",
    "elapsed = timeit.default_timer() - start_time\n",
    "print(f'mean={val}, time={elapsed}')"
   ]
  },
  {
   "cell_type": "markdown",
   "metadata": {},
   "source": [
    "### Vectorized Version"
   ]
  },
  {
   "cell_type": "code",
   "execution_count": 33,
   "metadata": {},
   "outputs": [
    {
     "name": "stdout",
     "output_type": "stream",
     "text": [
      "mean=1.8705418891679246, time=0.013843823000001976\n"
     ]
    }
   ],
   "source": [
    "start_time = timeit.default_timer()\n",
    "val = np.amax(x_norm, axis=1).mean() # difference: max(x,y) compares x and y element by element; amax(x) looks for maximum within x.\n",
    "elapsed = timeit.default_timer() - start_time\n",
    "print(f'mean={val}, time={elapsed}')"
   ]
  },
  {
   "cell_type": "code",
   "execution_count": 34,
   "metadata": {},
   "outputs": [
    {
     "ename": "NameError",
     "evalue": "name 'x_max2' is not defined",
     "output_type": "error",
     "traceback": [
      "\u001b[1;31m---------------------------------------------------------------------------\u001b[0m",
      "\u001b[1;31mNameError\u001b[0m                                 Traceback (most recent call last)",
      "\u001b[1;32m<ipython-input-34-0fc1e125fa04>\u001b[0m in \u001b[0;36m<module>\u001b[1;34m\u001b[0m\n\u001b[1;32m----> 1\u001b[1;33m \u001b[1;32massert\u001b[0m \u001b[0mnp\u001b[0m\u001b[1;33m.\u001b[0m\u001b[0mall\u001b[0m\u001b[1;33m(\u001b[0m\u001b[0mx_max\u001b[0m\u001b[1;33m-\u001b[0m\u001b[0mx_max2\u001b[0m \u001b[1;33m==\u001b[0m \u001b[1;36m0\u001b[0m\u001b[1;33m)\u001b[0m\u001b[1;33m\u001b[0m\u001b[1;33m\u001b[0m\u001b[0m\n\u001b[0m",
      "\u001b[1;31mNameError\u001b[0m: name 'x_max2' is not defined"
     ]
    }
   ],
   "source": [
    "assert np.all(x_max-x_max2 == 0)"
   ]
  },
  {
   "cell_type": "code",
   "execution_count": null,
   "metadata": {},
   "outputs": [],
   "source": []
  },
  {
   "cell_type": "markdown",
   "metadata": {},
   "source": [
    "## Array view and Copy\n",
    "* Array is view shares the same memory space\n",
    "* Any change in the view will make the same change in the original array"
   ]
  },
  {
   "cell_type": "code",
   "execution_count": 35,
   "metadata": {},
   "outputs": [
    {
     "name": "stdout",
     "output_type": "stream",
     "text": [
      "[[ 0  1  2  3]\n",
      " [ 4  5  6  7]\n",
      " [ 8  9 10 11]] [4 5 6 7]\n"
     ]
    }
   ],
   "source": [
    "mat_B = np.arange(12).reshape((3,4))\n",
    "vec_x = mat_B[1,]  # kind of like 'pointer'\n",
    "# vec_x = mat_B[1,].copy()  # make a copy so that vec_x can have an independent memory space\n",
    "print(mat_B, vec_x)"
   ]
  },
  {
   "cell_type": "code",
   "execution_count": 36,
   "metadata": {},
   "outputs": [],
   "source": [
    "vec_x[-2] = -99"
   ]
  },
  {
   "cell_type": "code",
   "execution_count": 37,
   "metadata": {},
   "outputs": [
    {
     "name": "stdout",
     "output_type": "stream",
     "text": [
      "[[  0   1   2   3]\n",
      " [  4   5 -99   7]\n",
      " [  8   9  10  11]] [  4   5 -99   7]\n"
     ]
    }
   ],
   "source": [
    "print(mat_B, vec_x)"
   ]
  },
  {
   "cell_type": "code",
   "execution_count": 38,
   "metadata": {},
   "outputs": [
    {
     "name": "stdout",
     "output_type": "stream",
     "text": [
      "[[ 0  1  2  3]\n",
      " [ 4  5  6  7]\n",
      " [ 8  9 10 11]] \n",
      " [[  0   2   4   6]\n",
      " [  8 -99  12  14]\n",
      " [ 16  18  20  22]]\n"
     ]
    }
   ],
   "source": [
    "# mat_C is not a view\n",
    "mat_B = np.arange(12).reshape((3,4))\n",
    "# mat_C = mat_B+0\n",
    "mat_C = mat_B*2\n",
    "mat_C[1,1] = -99\n",
    "print(mat_B, \"\\n\", mat_C)"
   ]
  },
  {
   "cell_type": "code",
   "execution_count": null,
   "metadata": {},
   "outputs": [],
   "source": []
  },
  {
   "cell_type": "code",
   "execution_count": null,
   "metadata": {},
   "outputs": [],
   "source": []
  }
 ],
 "metadata": {
  "anaconda-cloud": {},
  "kernelspec": {
   "display_name": "Python 3",
   "language": "python",
   "name": "python3"
  },
  "language_info": {
   "codemirror_mode": {
    "name": "ipython",
    "version": 3
   },
   "file_extension": ".py",
   "mimetype": "text/x-python",
   "name": "python",
   "nbconvert_exporter": "python",
   "pygments_lexer": "ipython3",
   "version": "3.7.4"
  }
 },
 "nbformat": 4,
 "nbformat_minor": 1
}
