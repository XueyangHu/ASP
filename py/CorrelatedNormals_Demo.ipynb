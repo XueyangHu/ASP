{
 "cells": [
  {
   "cell_type": "markdown",
   "metadata": {},
   "source": [
    "# Correlated (multivariate) normal random variables"
   ]
  },
  {
   "cell_type": "code",
   "execution_count": 2,
   "metadata": {},
   "outputs": [],
   "source": [
    "import numpy as np"
   ]
  },
  {
   "cell_type": "code",
   "execution_count": null,
   "metadata": {},
   "outputs": [],
   "source": []
  },
  {
   "cell_type": "code",
   "execution_count": 3,
   "metadata": {},
   "outputs": [
    {
     "name": "stdout",
     "output_type": "stream",
     "text": [
      "[2 5 2] \n",
      " [[ 1.   0.7 -0.2]\n",
      " [ 0.7  1.   0.5]\n",
      " [-0.2  0.5  1. ]]\n"
     ]
    }
   ],
   "source": [
    "# Sigma (std) and correlation \n",
    "sig_v = np.array([2, 5, 2])\n",
    "cor_m = np.array([[1, 0.7, -0.2], [0.7, 1, 0.5], [-0.2, 0.5, 1]])\n",
    "print(sig_v, '\\n', cor_m)"
   ]
  },
  {
   "cell_type": "markdown",
   "metadata": {},
   "source": [
    "### Construct Covariance Matrix"
   ]
  },
  {
   "cell_type": "code",
   "execution_count": 4,
   "metadata": {},
   "outputs": [
    {
     "data": {
      "text/plain": [
       "array([[2],\n",
       "       [5],\n",
       "       [2]])"
      ]
     },
     "execution_count": 4,
     "metadata": {},
     "output_type": "execute_result"
    }
   ],
   "source": [
    "sig_v[:,None] # Change into column vector"
   ]
  },
  {
   "cell_type": "code",
   "execution_count": 7,
   "metadata": {},
   "outputs": [
    {
     "name": "stdout",
     "output_type": "stream",
     "text": [
      "[[ 4.   7.  -0.8]\n",
      " [ 7.  25.   5. ]\n",
      " [-0.8  5.   4. ]]\n"
     ]
    }
   ],
   "source": [
    "cov_m = sig_v * cor_m * sig_v[:,None]\n",
    "print(cov_m)"
   ]
  },
  {
   "cell_type": "markdown",
   "metadata": {
    "collapsed": true
   },
   "source": [
    "### Cholesky decomposition of covariance matrix"
   ]
  },
  {
   "cell_type": "code",
   "execution_count": 9,
   "metadata": {
    "scrolled": true
   },
   "outputs": [
    {
     "name": "stdout",
     "output_type": "stream",
     "text": [
      "[[ 2.          0.          0.        ]\n",
      " [ 3.5         3.57071421  0.        ]\n",
      " [-0.4         1.79235851  0.79211803]]\n"
     ]
    }
   ],
   "source": [
    "chol_m = np.linalg.cholesky(cov_m)  #np.linalg: linear algebra package\n",
    "print(chol_m)"
   ]
  },
  {
   "cell_type": "code",
   "execution_count": 11,
   "metadata": {},
   "outputs": [
    {
     "name": "stdout",
     "output_type": "stream",
     "text": [
      "[[ 4.   7.  -0.8]\n",
      " [ 7.  25.   5. ]\n",
      " [-0.8  5.   4. ]] \n",
      "\n",
      "[[0. 0. 0.]\n",
      " [0. 0. 0.]\n",
      " [0. 0. 0.]]\n"
     ]
    }
   ],
   "source": [
    "# Let's verify that L x L^T = Covariance\n",
    "# L: lower triangle matrix\n",
    "print( chol_m @ chol_m.transpose(), '\\n' )\n",
    "print( chol_m @ chol_m.transpose() - cov_m )"
   ]
  },
  {
   "cell_type": "code",
   "execution_count": 12,
   "metadata": {},
   "outputs": [
    {
     "data": {
      "text/plain": [
       "array([[ 0.77212676,  0.43979012,  1.44527628, ..., -0.15613237,\n",
       "         0.6864597 , -1.11143019],\n",
       "       [-0.39216559, -0.68181352, -0.78422773, ..., -0.51320769,\n",
       "        -0.36927405,  0.05986203],\n",
       "       [-0.05819163,  0.24744512,  0.69840229, ...,  1.72124291,\n",
       "         1.04596601, -0.1120384 ]])"
      ]
     },
     "execution_count": 12,
     "metadata": {},
     "output_type": "execute_result"
    }
   ],
   "source": [
    "# Now let's create multivariate normal random variables following the covariance matrix\n",
    "# First, create standard normals (3 x 10000)\n",
    "# 3: dim of the random variable, 10000: repeated random number\n",
    "znorm_m = np.random.normal(size=(3, 10000))\n",
    "znorm_m"
   ]
  },
  {
   "cell_type": "code",
   "execution_count": 8,
   "metadata": {},
   "outputs": [
    {
     "data": {
      "text/plain": [
       "array([[ 1.009, -0.02 ,  0.003],\n",
       "       [-0.02 ,  0.998, -0.015],\n",
       "       [ 0.003, -0.015,  1.02 ]])"
      ]
     },
     "execution_count": 8,
     "metadata": {},
     "output_type": "execute_result"
    }
   ],
   "source": [
    "np.round(np.cov(znorm_m),3) # compute cov matrix of the generated random number z_norm_m"
   ]
  },
  {
   "cell_type": "code",
   "execution_count": 9,
   "metadata": {},
   "outputs": [
    {
     "data": {
      "text/plain": [
       "array([[-1.43681898, -0.65717722,  0.34172155, ..., -1.51269157,\n",
       "         0.61489544,  1.9110666 ],\n",
       "       [-3.06772081,  0.46079698,  2.8692695 , ..., -4.24800233,\n",
       "         4.35354043,  4.80267952],\n",
       "       [ 0.60493634, -0.19615336,  0.70303595, ..., -0.00572939,\n",
       "         2.7463627 ,  0.68144666]])"
      ]
     },
     "execution_count": 9,
     "metadata": {},
     "output_type": "execute_result"
    }
   ],
   "source": [
    "# Then multiply L^T\n",
    "\n",
    "#xnorm_m = znorm_m @ chol_m.transpose()\n",
    "xnorm_m = chol_m @ znorm_m\n",
    "xnorm_m"
   ]
  },
  {
   "cell_type": "code",
   "execution_count": 10,
   "metadata": {
    "scrolled": true
   },
   "outputs": [
    {
     "name": "stdout",
     "output_type": "stream",
     "text": [
      "[[ 4.   7.  -0.8]\n",
      " [ 7.  25.   5. ]\n",
      " [-0.8  5.   4. ]]\n",
      "Cov from sample:\n",
      " [[ 4.03545891  6.91725387 -0.87479964]\n",
      " [ 6.91725387 24.57754141  4.8436276 ]\n",
      " [-0.87479964  4.8436276   3.99268149]]\n",
      "Error of Cov matrix:\n",
      " [[ 0.03545891 -0.08274613 -0.07479964]\n",
      " [-0.08274613 -0.42245859 -0.1563724 ]\n",
      " [-0.07479964 -0.1563724  -0.00731851]]\n"
     ]
    }
   ],
   "source": [
    "# Let's verify that X = L * Z  follows the covariance\n",
    "print(cov_m)\n",
    "cov_m_sample = np.cov( xnorm_m )\n",
    "print( 'Cov from sample:\\n', cov_m_sample )\n",
    "print( 'Error of Cov matrix:\\n', cov_m_sample - cov_m )"
   ]
  },
  {
   "cell_type": "code",
   "execution_count": 11,
   "metadata": {},
   "outputs": [
    {
     "name": "stdout",
     "output_type": "stream",
     "text": [
      "[[ 1.   0.7 -0.2]\n",
      " [ 0.7  1.   0.5]\n",
      " [-0.2  0.5  1. ]]\n",
      "Corr from sample:\n",
      " [[ 1.          0.69457322 -0.21793641]\n",
      " [ 0.69457322  1.          0.48895534]\n",
      " [-0.21793641  0.48895534  1.        ]]\n",
      "Error:\n",
      " [[ 0.         -0.00542678 -0.01793641]\n",
      " [-0.00542678  0.         -0.01104466]\n",
      " [-0.01793641 -0.01104466  0.        ]]\n"
     ]
    }
   ],
   "source": [
    "# also check the correation\n",
    "print(cor_m)\n",
    "cor_m_sample = np.corrcoef( xnorm_m )\n",
    "print( 'Corr from sample:\\n', cor_m_sample )\n",
    "print( 'Error:\\n', cor_m_sample - cor_m )"
   ]
  },
  {
   "cell_type": "markdown",
   "metadata": {
    "collapsed": true
   },
   "source": []
  }
 ],
 "metadata": {
  "anaconda-cloud": {},
  "kernelspec": {
   "display_name": "Python 3",
   "language": "python",
   "name": "python3"
  },
  "language_info": {
   "codemirror_mode": {
    "name": "ipython",
    "version": 3
   },
   "file_extension": ".py",
   "mimetype": "text/x-python",
   "name": "python",
   "nbconvert_exporter": "python",
   "pygments_lexer": "ipython3",
   "version": "3.7.4"
  }
 },
 "nbformat": 4,
 "nbformat_minor": 1
}
