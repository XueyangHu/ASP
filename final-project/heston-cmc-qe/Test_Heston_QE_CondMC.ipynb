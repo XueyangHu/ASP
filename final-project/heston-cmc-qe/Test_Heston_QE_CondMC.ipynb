{
 "cells": [
  {
   "cell_type": "markdown",
   "metadata": {},
   "source": [
    "# Conditional MC of Heston Model based on QE Scheme"
   ]
  },
  {
   "cell_type": "code",
   "execution_count": 1,
   "metadata": {},
   "outputs": [],
   "source": [
    "import numpy as np\n",
    "import heston_cmc_qe as heston\n",
    "import time\n",
    "import pyfeng as pf\n",
    "import matplotlib.pyplot as plt\n",
    "from tqdm import tqdm"
   ]
  },
  {
   "cell_type": "markdown",
   "metadata": {},
   "source": [
    "## Andersen's (2008) and Van's (2010) examples, with multiple strikes and single spot"
   ]
  },
  {
   "cell_type": "code",
   "execution_count": 2,
   "metadata": {},
   "outputs": [],
   "source": [
    "# Examples\n",
    "# Andersen (2008)\n",
    "strike = [100.0, 140.0, 70.0]\n",
    "forward = 100\n",
    "delta = [1, 1/2, 1/4, 1/8, 1/16, 1/32]\n",
    "case = np.zeros([3, 7])\n",
    "#case[i]=[vov, kappa, rho, texp, theta,  sigma,     r]\n",
    "case[0] = [1,   0.5, -0.9, 10, 0.04, np.sqrt(0.04), 0]\n",
    "case[1] = [0.9, 0.3, -0.5, 15, 0.04, np.sqrt(0.04), 0]\n",
    "case[2] = [1,   1,   -0.3, 5,  0.09, np.sqrt(0.09), 0]"
   ]
  },
  {
   "cell_type": "code",
   "execution_count": 3,
   "metadata": {},
   "outputs": [],
   "source": [
    "# Van (2010)\n",
    "strike = [100.0, 140.0, 60.0]\n",
    "forward = 100\n",
    "delta = [1, 1/2, 1/4, 1/8, 1/16, 1/32]\n",
    "case = np.zeros([3, 7])\n",
    "#case[i]=[vov, kappa, rho, texp, theta,   sigma,    r]\n",
    "case[0] = [1,   0.5, -0.9, 10, 0.04, np.sqrt(0.04), 0]\n",
    "case[1] = [1,   1,   -0.3, 5,  0.09, np.sqrt(0.09), 0.05]\n",
    "case[2] = [0.9, 0.3, -0.5, 15, 0.04, np.sqrt(0.04), 0]\n",
    "ref_price = np.array([[13.085, 0.296, 44.330], [33.597, 18.157, 56.575], [16.649, 5.138, 45.287]])"
   ]
  },
  {
   "cell_type": "code",
   "execution_count": 4,
   "metadata": {},
   "outputs": [
    {
     "name": "stdout",
     "output_type": "stream",
     "text": [
      "Case 0:\n",
      "computed price\n",
      "[[14.52988166  0.1954481  45.5566836 ]\n",
      " [13.58264697  0.26538629 44.59576156]\n",
      " [13.18875382  0.29164219 44.35693654]\n",
      " [13.09245767  0.29643382 44.32630416]\n",
      " [13.09234981  0.29612097 44.3554616 ]\n",
      " [13.0747208   0.29571157 44.30422413]]\n",
      "bias\n",
      "[[ 1.44488166 -0.1005519   1.2266836 ]\n",
      " [ 0.49764697 -0.03061371  0.26576156]\n",
      " [ 0.10375382 -0.00435781  0.02693654]\n",
      " [ 0.00745767  0.00043382 -0.00369584]\n",
      " [ 0.00734981  0.00012097  0.0254616 ]\n",
      " [-0.0102792  -0.00028843 -0.02577587]]\n",
      "Running time is 1123.970 seconds.\n",
      "\n",
      "Case 1:\n",
      "computed price\n",
      "[[33.73639816 17.45658862 56.93686071]\n",
      " [33.6862614  17.7939801  56.72279494]\n",
      " [33.62950685 18.06468289 56.61902551]\n",
      " [33.60258667 18.14381343 56.57858711]\n",
      " [33.59659541 18.15261599 56.57703292]\n",
      " [33.59741061 18.15529961 56.5780489 ]]\n",
      "bias\n",
      "[[ 0.13939816 -0.70041138  0.36186071]\n",
      " [ 0.0892614  -0.3630199   0.14779494]\n",
      " [ 0.03250685 -0.09231711  0.04402551]\n",
      " [ 0.00558667 -0.01318657  0.00358711]\n",
      " [-0.00040459 -0.00438401  0.00203292]\n",
      " [ 0.00041061 -0.00170039  0.0030489 ]]\n",
      "Running time is 701.958 seconds.\n",
      "\n"
     ]
    },
    {
     "ename": "KeyboardInterrupt",
     "evalue": "",
     "output_type": "error",
     "traceback": [
      "\u001b[1;31m---------------------------------------------------------------------------\u001b[0m",
      "\u001b[1;31mKeyboardInterrupt\u001b[0m                         Traceback (most recent call last)",
      "\u001b[1;32m<ipython-input-4-917f837fa0d7>\u001b[0m in \u001b[0;36m<module>\u001b[1;34m\u001b[0m\n\u001b[0;32m     10\u001b[0m \u001b[1;33m\u001b[0m\u001b[0m\n\u001b[0;32m     11\u001b[0m     \u001b[1;32mfor\u001b[0m \u001b[0md\u001b[0m \u001b[1;32min\u001b[0m \u001b[0mrange\u001b[0m\u001b[1;33m(\u001b[0m\u001b[0mlen\u001b[0m\u001b[1;33m(\u001b[0m\u001b[0mdelta\u001b[0m\u001b[1;33m)\u001b[0m\u001b[1;33m)\u001b[0m\u001b[1;33m:\u001b[0m\u001b[1;33m\u001b[0m\u001b[1;33m\u001b[0m\u001b[0m\n\u001b[1;32m---> 12\u001b[1;33m         \u001b[0mprice_cmc\u001b[0m\u001b[1;33m[\u001b[0m\u001b[0md\u001b[0m\u001b[1;33m,\u001b[0m \u001b[1;33m:\u001b[0m\u001b[1;33m]\u001b[0m \u001b[1;33m=\u001b[0m \u001b[0mheston_cmc_qe\u001b[0m\u001b[1;33m.\u001b[0m\u001b[0mprice\u001b[0m\u001b[1;33m(\u001b[0m\u001b[0mstrike\u001b[0m\u001b[1;33m,\u001b[0m \u001b[0mforward\u001b[0m\u001b[1;33m,\u001b[0m \u001b[0mtexp\u001b[0m\u001b[1;33m,\u001b[0m \u001b[0msigma\u001b[0m\u001b[1;33m=\u001b[0m\u001b[0msigma\u001b[0m\u001b[1;33m,\u001b[0m \u001b[0mdelta\u001b[0m\u001b[1;33m=\u001b[0m\u001b[0mdelta\u001b[0m\u001b[1;33m[\u001b[0m\u001b[0md\u001b[0m\u001b[1;33m]\u001b[0m\u001b[1;33m,\u001b[0m \u001b[0mr\u001b[0m\u001b[1;33m=\u001b[0m\u001b[0mr\u001b[0m\u001b[1;33m,\u001b[0m \u001b[0mpath\u001b[0m\u001b[1;33m=\u001b[0m\u001b[1;36m1e6\u001b[0m\u001b[1;33m,\u001b[0m \u001b[0mseed\u001b[0m\u001b[1;33m=\u001b[0m\u001b[1;36m123456\u001b[0m\u001b[1;33m)\u001b[0m\u001b[1;33m\u001b[0m\u001b[1;33m\u001b[0m\u001b[0m\n\u001b[0m\u001b[0;32m     13\u001b[0m         \u001b[0mbias_cmc\u001b[0m\u001b[1;33m[\u001b[0m\u001b[0md\u001b[0m\u001b[1;33m,\u001b[0m \u001b[1;33m:\u001b[0m\u001b[1;33m]\u001b[0m \u001b[1;33m=\u001b[0m \u001b[0mprice_cmc\u001b[0m\u001b[1;33m[\u001b[0m\u001b[0md\u001b[0m\u001b[1;33m,\u001b[0m \u001b[1;33m:\u001b[0m\u001b[1;33m]\u001b[0m \u001b[1;33m-\u001b[0m \u001b[0mexact_price\u001b[0m\u001b[1;33m[\u001b[0m\u001b[0mi\u001b[0m\u001b[1;33m,\u001b[0m \u001b[1;33m:\u001b[0m\u001b[1;33m]\u001b[0m\u001b[1;33m\u001b[0m\u001b[1;33m\u001b[0m\u001b[0m\n\u001b[0;32m     14\u001b[0m \u001b[1;33m\u001b[0m\u001b[0m\n",
      "\u001b[1;32mC:\\Users\\Chance\\Documents\\GitHub\\ASP_hxy\\final-project\\heston-qe-cmc\\heston_cmc_qe.py\u001b[0m in \u001b[0;36mprice\u001b[1;34m(self, strike, spot, texp, sigma, delta, r, intr, divr, psi_c, path, seed, scheme)\u001b[0m\n\u001b[0;32m     92\u001b[0m             \u001b[1;32mfor\u001b[0m \u001b[0mi\u001b[0m \u001b[1;32min\u001b[0m \u001b[0mrange\u001b[0m\u001b[1;33m(\u001b[0m\u001b[0mself\u001b[0m\u001b[1;33m.\u001b[0m\u001b[0mstep\u001b[0m\u001b[1;33m)\u001b[0m\u001b[1;33m:\u001b[0m\u001b[1;33m\u001b[0m\u001b[1;33m\u001b[0m\u001b[0m\n\u001b[0;32m     93\u001b[0m                 \u001b[1;31m# compute m, s_square, psi given vt(i)\u001b[0m\u001b[1;33m\u001b[0m\u001b[1;33m\u001b[0m\u001b[1;33m\u001b[0m\u001b[0m\n\u001b[1;32m---> 94\u001b[1;33m                 \u001b[0mm\u001b[0m \u001b[1;33m=\u001b[0m \u001b[0mself\u001b[0m\u001b[1;33m.\u001b[0m\u001b[0mtheta\u001b[0m \u001b[1;33m+\u001b[0m \u001b[1;33m(\u001b[0m\u001b[0mvt\u001b[0m\u001b[1;33m[\u001b[0m\u001b[1;33m:\u001b[0m\u001b[1;33m,\u001b[0m \u001b[0mi\u001b[0m\u001b[1;33m]\u001b[0m \u001b[1;33m-\u001b[0m \u001b[0mself\u001b[0m\u001b[1;33m.\u001b[0m\u001b[0mtheta\u001b[0m\u001b[1;33m)\u001b[0m \u001b[1;33m*\u001b[0m \u001b[0mexpo\u001b[0m\u001b[1;33m\u001b[0m\u001b[1;33m\u001b[0m\u001b[0m\n\u001b[0m\u001b[0;32m     95\u001b[0m                 \u001b[0ms2\u001b[0m \u001b[1;33m=\u001b[0m \u001b[0mvt\u001b[0m\u001b[1;33m[\u001b[0m\u001b[1;33m:\u001b[0m\u001b[1;33m,\u001b[0m \u001b[0mi\u001b[0m\u001b[1;33m]\u001b[0m \u001b[1;33m*\u001b[0m \u001b[1;33m(\u001b[0m\u001b[0mself\u001b[0m\u001b[1;33m.\u001b[0m\u001b[0mvov\u001b[0m \u001b[1;33m**\u001b[0m \u001b[1;36m2\u001b[0m\u001b[1;33m)\u001b[0m \u001b[1;33m*\u001b[0m \u001b[0mexpo\u001b[0m \u001b[1;33m*\u001b[0m \u001b[1;33m(\u001b[0m\u001b[1;36m1\u001b[0m \u001b[1;33m-\u001b[0m \u001b[0mexpo\u001b[0m\u001b[1;33m)\u001b[0m \u001b[1;33m/\u001b[0m \u001b[0mself\u001b[0m\u001b[1;33m.\u001b[0m\u001b[0mkappa\u001b[0m \u001b[1;33m+\u001b[0m \u001b[0mself\u001b[0m\u001b[1;33m.\u001b[0m\u001b[0mtheta\u001b[0m \u001b[1;33m*\u001b[0m \u001b[1;33m(\u001b[0m\u001b[0mself\u001b[0m\u001b[1;33m.\u001b[0m\u001b[0mvov\u001b[0m \u001b[1;33m**\u001b[0m \u001b[1;36m2\u001b[0m\u001b[1;33m)\u001b[0m \u001b[1;33m*\u001b[0m\u001b[0;31m \u001b[0m\u001b[0;31m\\\u001b[0m\u001b[1;33m\u001b[0m\u001b[1;33m\u001b[0m\u001b[0m\n\u001b[0;32m     96\u001b[0m                      \u001b[1;33m(\u001b[0m\u001b[1;33m(\u001b[0m\u001b[1;36m1\u001b[0m \u001b[1;33m-\u001b[0m \u001b[0mexpo\u001b[0m\u001b[1;33m)\u001b[0m \u001b[1;33m**\u001b[0m \u001b[1;36m2\u001b[0m\u001b[1;33m)\u001b[0m \u001b[1;33m/\u001b[0m \u001b[1;33m(\u001b[0m\u001b[1;36m2\u001b[0m \u001b[1;33m*\u001b[0m \u001b[0mself\u001b[0m\u001b[1;33m.\u001b[0m\u001b[0mkappa\u001b[0m\u001b[1;33m)\u001b[0m\u001b[1;33m\u001b[0m\u001b[1;33m\u001b[0m\u001b[0m\n",
      "\u001b[1;31mKeyboardInterrupt\u001b[0m: "
     ]
    }
   ],
   "source": [
    "# compute conditional mc price and bias\n",
    "# for cases with multiple strike and single forward\n",
    "price_cmc = np.zeros([len(delta), len(strike)])\n",
    "bias_cmc = np.zeros([len(delta), len(strike)])\n",
    "for i in range(case.shape[0]):\n",
    "    vov, kappa, rho, texp, theta, sigma, r = case[i]\n",
    "    \n",
    "    start = time.time()\n",
    "    heston_cmc_qe = heston.HestonCondMcQE(vov=vov, kappa=kappa, rho=rho, theta=theta)\n",
    "    \n",
    "    for d in range(len(delta)):\n",
    "        price_cmc[d, :] = heston_cmc_qe.price(strike, forward, texp, sigma=sigma, delta=delta[d], intr=r, path=1e6, seed=123456)\n",
    "        bias_cmc[d, :] = price_cmc[d, :] - ref_price[i, :]\n",
    "\n",
    "    end = time.time()\n",
    "    \n",
    "    print('Case %s:' % i)\n",
    "    np.set_printoptions(suppress=True)\n",
    "    print('computed price')\n",
    "    print(price_cmc)\n",
    "    \n",
    "    print('bias')\n",
    "    print(bias_cmc)\n",
    "    print('Running time is %.3f seconds.' % (end - start) + '\\n')"
   ]
  },
  {
   "cell_type": "code",
   "execution_count": null,
   "metadata": {},
   "outputs": [],
   "source": [
    "# compute std error of conditional mc price\n",
    "n = 50\n",
    "for i in range(case.shape[0]):\n",
    "    start = time.time()\n",
    "    vov, kappa, rho, texp, theta, sigma, r = case[i]\n",
    "\n",
    "    heston_cmc_qe = heston.HestonCondMcQE(vov=vov, kappa=kappa, rho=rho, theta=theta)\n",
    "    price_cmc = np.zeros([len(delta), len(strike), n])\n",
    "    for j in tqdm(range(n)):\n",
    "        for d in range(len(delta)):\n",
    "            price_cmc[d, :, j] = heston_cmc_qe.price(strike, forward, texp, sigma=sigma, delta=delta[d], intr=r, path=1e4)\n",
    "            \n",
    "    end = time.time()\n",
    "    print('Case %s:' % i)\n",
    "    print('computed price')\n",
    "    print(price_cmc.mean(axis=2))\n",
    "    print('std error of conditional MC')\n",
    "    print(price_cmc.std(axis=2))\n",
    "    print('Running time is %.3f seconds.' % (end - start) + '\\n')"
   ]
  },
  {
   "cell_type": "code",
   "execution_count": null,
   "metadata": {},
   "outputs": [],
   "source": [
    "# compare our model with:\n",
    "# a.conditional MC with TG scheme\n",
    "# b.exact MC\n",
    "# c.almost exact MC\n"
   ]
  },
  {
   "cell_type": "code",
   "execution_count": null,
   "metadata": {},
   "outputs": [],
   "source": []
  },
  {
   "cell_type": "markdown",
   "metadata": {},
   "source": [
    "## Von's (2008) example, with multiple spots and single strike"
   ]
  },
  {
   "cell_type": "code",
   "execution_count": null,
   "metadata": {},
   "outputs": [],
   "source": [
    "# Example\n",
    "# Von (2018), multiple forward, single strike\n",
    "strike = [100.0]\n",
    "forward = [75, 100, 125]\n",
    "delta = [1, 1/2, 1/4, 1/8, 1/16, 1/32]\n",
    "case = np.zeros([3, 7])\n",
    "vov = 1\n",
    "kappa = 2.58\n",
    "rho = -0.36\n",
    "texp = 1\n",
    "theta = 0.043\n",
    "sigma = np.sqrt(0.114)\n",
    "r = 0\n",
    "ref_price = np.array([0.908502728459621, 9.046650119220969, 28.514786399298796])"
   ]
  },
  {
   "cell_type": "code",
   "execution_count": null,
   "metadata": {},
   "outputs": [],
   "source": [
    "# compute conditional mc price and bias\n",
    "# for cases with single strike and multiple forward\n",
    "price_cmc = np.zeros([len(delta), len(forward)])\n",
    "bias_cmc = np.zeros([len(delta), len(forward)])\n",
    "start = time.time()\n",
    "for i in range(len(forward)):\n",
    "    heston_cmc_qe = heston.HestonCondMcQE(vov=vov, kappa=kappa, rho=rho, theta=theta)\n",
    "    \n",
    "    for d in range(len(delta)):\n",
    "        price_cmc[d, i] = heston_cmc_qe.price(strike, forward[i], texp, sigma=sigma, delta=delta[d], intr=r, path=1e6, seed=123456)\n",
    "        bias_cmc[d, i] = price_cmc[d, i] - ref_price[i]\n",
    "\n",
    "end = time.time()\n",
    "np.set_printoptions(suppress=True)\n",
    "print('price:')\n",
    "print(price_cmc)\n",
    "print('bias:')\n",
    "print(bias_cmc)\n",
    "print('Running time is %.3f seconds.' % (end - start) + '\\n')"
   ]
  },
  {
   "cell_type": "code",
   "execution_count": null,
   "metadata": {},
   "outputs": [],
   "source": []
  },
  {
   "cell_type": "code",
   "execution_count": null,
   "metadata": {},
   "outputs": [],
   "source": []
  }
 ],
 "metadata": {
  "kernelspec": {
   "display_name": "Python 3",
   "language": "python",
   "name": "python3"
  },
  "language_info": {
   "codemirror_mode": {
    "name": "ipython",
    "version": 3
   },
   "file_extension": ".py",
   "mimetype": "text/x-python",
   "name": "python",
   "nbconvert_exporter": "python",
   "pygments_lexer": "ipython3",
   "version": "3.7.4"
  }
 },
 "nbformat": 4,
 "nbformat_minor": 2
}
